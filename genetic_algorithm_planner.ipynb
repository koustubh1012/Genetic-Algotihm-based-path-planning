{
  "nbformat": 4,
  "nbformat_minor": 0,
  "metadata": {
    "colab": {
      "provenance": []
    },
    "kernelspec": {
      "name": "python3",
      "display_name": "Python 3"
    },
    "language_info": {
      "name": "python"
    }
  },
  "cells": [
    {
      "cell_type": "code",
      "execution_count": 240,
      "metadata": {
        "id": "dNJ8-iQHF4pS"
      },
      "outputs": [],
      "source": [
        "import matplotlib.pyplot as plt\n",
        "import numpy as np\n",
        "import random\n",
        "import math\n",
        "import heapq"
      ]
    },
    {
      "cell_type": "code",
      "source": [
        "size = (30, 50)\n",
        "obstacles = [(5, 5, 10, 10), (20, 30, 25, 45), (15, 0, 20, 5)]\n",
        "start = (0, 0)\n",
        "goal = (29, 40)"
      ],
      "metadata": {
        "id": "XiH5GmRqd-3H"
      },
      "execution_count": 241,
      "outputs": []
    },
    {
      "cell_type": "code",
      "source": [
        "class Node:\n",
        "  def __init__(self, x, y):\n",
        "    self.x = x\n",
        "    self.y = y\n",
        "    self.parent_node = None"
      ],
      "metadata": {
        "id": "Z-i8bT12GST9"
      },
      "execution_count": 242,
      "outputs": []
    },
    {
      "cell_type": "code",
      "source": [
        "def is_within_obstacles(point, obstacles):\n",
        "  for (ox, oy, ex, ey) in obstacles:\n",
        "    if ox <= point[0] <= ex and oy <= point[1] <= ey:\n",
        "      return True\n",
        "  return False\n",
        "\n",
        "def distance(point1, point2):\n",
        "  return np.sqrt((point1[0]-point2[0])**2 + (point1[1]-point2[1])**2)\n",
        "\n",
        "def nearest_node(nodes, random_point):\n",
        "  return min(nodes, key=lambda node: distance((node.x, node.y), random_point))\n",
        "\n",
        "def steer(from_node, to_point, step_size=1):\n",
        "  if distance((from_node.x, from_node.y), to_point) < step_size:\n",
        "    return Node(to_point[0], to_point[1])\n",
        "  else:\n",
        "    theta = np.arctan2(to_point[1]-from_node.y, to_point[0]-from_node.x)\n",
        "    return Node(from_node.x + step_size*np.cos(theta), from_node.y + step_size*np.sin(theta))\n",
        "\n",
        "\"\"\" Check if the path between node1 and node2 is valid by interpolating points along the way. \"\"\"\n",
        "def is_valid_path(node1, node2, obstacles):\n",
        "  steps = int(distance((node1.x, node1.y), (node2.x, node2.y))/0.5)  # Smaller steps for more accuracy\n",
        "\n",
        "  for i in range(1, steps + 1):\n",
        "    inter_x = node1.x + i*(node2.x-node1.x)/steps\n",
        "    inter_y = node1.y + i*(node2.y-node1.y)/steps\n",
        "\n",
        "    if is_within_obstacles((inter_x, inter_y), obstacles):\n",
        "      return False\n",
        "  return True\n",
        "\n",
        "\n",
        "def plot(nodes=None, path=None):\n",
        "    fig, ax = plt.subplots()\n",
        "    if nodes:\n",
        "      for node in nodes:\n",
        "          if node.parent_node:\n",
        "              plt.plot([node.x, node.parent_node.x], [node.y, node.parent_node.y], \"g-\", linewidth=0.5)\n",
        "    for (ox, oy, ex, ey) in obstacles:\n",
        "        ax.add_patch(plt.Rectangle((ox, oy), ex-ox, ey-oy, color=\"red\"))\n",
        "    if path:\n",
        "        plt.plot([node.x for node in path], [node.y for node in path], \"b-\", linewidth=2)  # Highlight path in blue\n",
        "    plt.plot(start[0], start[1], \"bo\")  # Start\n",
        "    plt.plot(goal[0], goal[1], \"ro\")  # Goal\n",
        "    plt.grid(True)\n",
        "    plt.show()"
      ],
      "metadata": {
        "id": "pbl4EYDoGY9g"
      },
      "execution_count": 243,
      "outputs": []
    },
    {
      "cell_type": "code",
      "source": [
        "def rrt(step_size=5, max_nodes=10000):\n",
        "    nodes = [Node(start[0], start[1])]\n",
        "    while len(nodes) < max_nodes:\n",
        "        random_point = (random.randint(0, size[0] - 1), random.randint(0, size[1] - 1))\n",
        "        if is_within_obstacles(random_point, obstacles):\n",
        "            continue\n",
        "        nearest = nearest_node(nodes, random_point)\n",
        "        new_node = steer(nearest, random_point, step_size)\n",
        "        if not is_within_obstacles((new_node.x, new_node.y), obstacles) and is_valid_path(nearest, new_node, obstacles):\n",
        "            new_node.parent_node = nearest\n",
        "            nodes.append(new_node)\n",
        "            if distance((new_node.x, new_node.y), goal) <= 2:#step_size:\n",
        "                return nodes, new_node\n",
        "    return nodes, None  # Return None if max_nodes reached without finding a path"
      ],
      "metadata": {
        "id": "p0j-AMpzGgHg"
      },
      "execution_count": 244,
      "outputs": []
    },
    {
      "cell_type": "code",
      "source": [
        "def create_initial_population(population_size=10, start=(0,0), goal=(29, 40) ,plot_paths = False):\n",
        "  population = []\n",
        "  # solution = []\n",
        "  for i in range(population_size):\n",
        "    nodes, final_node = rrt()\n",
        "    path = []\n",
        "    if final_node:\n",
        "        while final_node.parent_node:\n",
        "            path.append(final_node)\n",
        "            final_node = final_node.parent_node\n",
        "        path.append(final_node)\n",
        "        path.reverse()\n",
        "    if plot_paths:\n",
        "      print(path)\n",
        "      plot(nodes, path)\n",
        "    population.append(path)\n",
        "  return population"
      ],
      "metadata": {
        "id": "unk3MX8lHI22"
      },
      "execution_count": 245,
      "outputs": []
    },
    {
      "cell_type": "code",
      "source": [
        "def fitness_function(path):\n",
        "    coordinates = [(node.x, node.y) for node in path]\n",
        "    wt = 2\n",
        "    euc_dist = 0\n",
        "    for i in range(len(coordinates) - 1):\n",
        "        x1, y1 = coordinates[i]\n",
        "        x2, y2 = coordinates[i+1]\n",
        "        dist_ = math.sqrt((x2-x1)**2 +(y2-y1)**2)\n",
        "        euc_dist += dist_\n",
        "        if euc_dist > 0:\n",
        "            F = 1 / (wt*euc_dist)\n",
        "        else:\n",
        "            F = float('inf')\n",
        "    return euc_dist, F"
      ],
      "metadata": {
        "id": "jepbzHmTfbRT"
      },
      "execution_count": 246,
      "outputs": []
    },
    {
      "cell_type": "code",
      "source": [
        "def calcualte_fitness_of_population(population):\n",
        "  fitness = []\n",
        "  for index, path in enumerate(population):\n",
        "    euc_dist, F = fitness_function(path)\n",
        "    fitness.append(F)\n",
        "  return fitness"
      ],
      "metadata": {
        "id": "F9spDKUxjUnh"
      },
      "execution_count": 247,
      "outputs": []
    },
    {
      "cell_type": "code",
      "source": [
        "def selection(fitness, population):\n",
        "  P1 = []\n",
        "  P2 = []\n",
        "  while(fitness):\n",
        "    max_fitness = max(fitness)\n",
        "    index = fitness.index(max_fitness)\n",
        "    fitness.pop(index)\n",
        "    P1.append(population.pop(index))\n",
        "\n",
        "    l = len(fitness)\n",
        "    i = random.randint(0, l-1)\n",
        "    fitness.pop(i)\n",
        "    P2.append(population.pop(i))\n",
        "  return P1, P2"
      ],
      "metadata": {
        "id": "j01oY5DT0JBS"
      },
      "execution_count": 248,
      "outputs": []
    },
    {
      "cell_type": "code",
      "source": [
        "def elimination(fitness, population):\n",
        "  num_eliminations = int(0.1*len(fitness))\n",
        "  for i in range(0, num_eliminations):\n",
        "    min_fitness = min(fitness)\n",
        "    index = fitness.index(min_fitness)\n",
        "    fitness.pop(index)\n",
        "    population.pop(index)\n",
        "  return fitness, population\n"
      ],
      "metadata": {
        "id": "Ue2xf4W-mfCB"
      },
      "execution_count": 249,
      "outputs": []
    },
    {
      "cell_type": "code",
      "source": [
        "population = create_initial_population(population_size=200, plot_paths=False)"
      ],
      "metadata": {
        "id": "EKIZZjDoWowS"
      },
      "execution_count": 250,
      "outputs": []
    },
    {
      "cell_type": "code",
      "source": [
        "fitness = calcualte_fitness_of_population(population)"
      ],
      "metadata": {
        "id": "vfxPMAEzqIrg"
      },
      "execution_count": 251,
      "outputs": []
    },
    {
      "cell_type": "code",
      "source": [
        "fitness, population = elimination(fitness, population)"
      ],
      "metadata": {
        "id": "28z5ZyKzr5H6"
      },
      "execution_count": 252,
      "outputs": []
    },
    {
      "cell_type": "code",
      "source": [
        "P1, P2 = selection(fitness, population)"
      ],
      "metadata": {
        "id": "0cpGGKU_oBCq"
      },
      "execution_count": 253,
      "outputs": []
    }
  ]
}